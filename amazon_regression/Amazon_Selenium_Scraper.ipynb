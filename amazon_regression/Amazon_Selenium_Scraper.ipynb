{
 "cells": [
  {
   "cell_type": "code",
   "execution_count": 1,
   "metadata": {},
   "outputs": [
    {
     "name": "stdout",
     "output_type": "stream",
     "text": [
      "Requirement already satisfied: selenium in /anaconda3/lib/python3.6/site-packages\r\n"
     ]
    }
   ],
   "source": [
    "!pip install selenium"
   ]
  },
  {
   "cell_type": "code",
   "execution_count": 2,
   "metadata": {
    "collapsed": true
   },
   "outputs": [],
   "source": [
    "from selenium import webdriver\n",
    "from selenium.webdriver.common.keys import Keys\n",
    "import time\n",
    "import random\n",
    "import os\n",
    "from datetime import datetime"
   ]
  },
  {
   "cell_type": "code",
   "execution_count": 3,
   "metadata": {
    "collapsed": true
   },
   "outputs": [],
   "source": [
    "chromedriver = \"/Applications/chromedriver\" # path to the chromedriver executable\n",
    "os.environ[\"webdriver.chrome.driver\"] = chromedriver\n",
    "\n",
    "driver = webdriver.Chrome(chromedriver)\n",
    "driver.get(\"https://www.amazon.com/gp/site-directory/\")"
   ]
  },
  {
   "cell_type": "code",
   "execution_count": 4,
   "metadata": {
    "collapsed": true
   },
   "outputs": [],
   "source": [
    "# Find and click Luggage category\n",
    "luggage_link = driver.find_element_by_xpath(\"//a[contains(text(), 'Luggage')]\")\n",
    "luggage_link.click()"
   ]
  },
  {
   "cell_type": "code",
   "execution_count": 5,
   "metadata": {
    "collapsed": true
   },
   "outputs": [],
   "source": [
    "# Click on Luggage Subcategory\n",
    "all_sub_categories = driver.find_elements_by_xpath(\"//div[starts-with(@id, 'categoryTiles')]/div/div/div\")\n",
    "all_sub_categories[0].click() # For Luggage\n",
    "# all_sub_categories[1].click() # For backpacks\n",
    "# all_sub_categories[2].click() # For duffels\n",
    "# all_sub_categories[3].click() # For Messenger Bag\n"
   ]
  },
  {
   "cell_type": "code",
   "execution_count": 6,
   "metadata": {
    "collapsed": true
   },
   "outputs": [],
   "source": [
    "# Get brand and product name\n",
    "def get_brand(current_driver):    \n",
    "    try:\n",
    "        brand_name = current_driver.find_element_by_xpath(\"//div[contains(@data-feature-name, 'brandByline') or contains(@data-feature-name, 'bylineInfo')]//a\").text\n",
    "    except:\n",
    "        brand_name = ''\n",
    "    return brand_name.strip().replace(',', '')\n",
    "\n",
    "def get_product(current_driver):\n",
    "    try:\n",
    "        product_name = current_driver.find_element_by_xpath(\"//span[@id='productTitle' or @id='btAsinTitle']\").text\n",
    "    except:\n",
    "        product_name = 'None Found'\n",
    "    return product_name.strip().replace(',', '')"
   ]
  },
  {
   "cell_type": "code",
   "execution_count": 7,
   "metadata": {
    "collapsed": true
   },
   "outputs": [],
   "source": [
    "def get_price(current_driver):\n",
    "    try:\n",
    "        product_price = driver.find_element_by_xpath(\"//span[contains(@id, 'priceblock_ourprice')]\").text.replace(',', '').replace('$', '')\n",
    "    except:\n",
    "        product_price = 'NA'\n",
    "    return product_price"
   ]
  },
  {
   "cell_type": "code",
   "execution_count": 8,
   "metadata": {
    "collapsed": true
   },
   "outputs": [],
   "source": [
    "# Get all swatch collections\n",
    "def get_all_swatches(current_driver):\n",
    "    all_swatches = current_driver.find_elements_by_xpath(\"//ul[(contains(@class, 'swatches'))]/li\")\n",
    "    return [swatch.get_attribute('title')[16:].strip().replace(',', '') for swatch in all_swatches]"
   ]
  },
  {
   "cell_type": "code",
   "execution_count": 9,
   "metadata": {
    "collapsed": true
   },
   "outputs": [],
   "source": [
    "def get_no_reviews_rating(current_driver):\n",
    "    try:\n",
    "        no_of_reviews = current_driver.find_element_by_xpath(\"//span[@id='acrCustomerReviewText']\").text\n",
    "    except:\n",
    "        no_of_reviews = 'NA'\n",
    "    try:\n",
    "        star_rating = current_driver.find_element_by_xpath(\"//span[@id='acrPopover']\").get_attribute('title')\n",
    "    except:\n",
    "        star_rating = \"NA\"\n",
    "    return (no_of_reviews.replace(',', ''), star_rating)"
   ]
  },
  {
   "cell_type": "code",
   "execution_count": 10,
   "metadata": {
    "collapsed": true
   },
   "outputs": [],
   "source": [
    "# if prodDetails table is found\n",
    "def get_prod_details(current_driver):\n",
    "    all_descriptions = current_driver.find_elements_by_xpath(\"//div[@id='prodDetails']//table//tr\")\n",
    "    prod_details = []\n",
    "    for description_row in all_descriptions:\n",
    "        try:\n",
    "            row_title = description_row.find_element_by_xpath(\".//th\").text.replace('\\n', '').replace(',', '')\n",
    "        except:\n",
    "            row_title = ''\n",
    "        row_value = description_row.find_elements_by_xpath(\".//td\")[-1].text.replace('\\n', '').replace(',', '')\n",
    "        prod_details.append((row_title, row_value))\n",
    "    return prod_details"
   ]
  },
  {
   "cell_type": "code",
   "execution_count": 11,
   "metadata": {
    "collapsed": true
   },
   "outputs": [],
   "source": [
    "# if prodDetails doesn't exist, check 'detail-bullets' table\n",
    "# all_descriptions_rows = driver.find_elements_by_xpath(\"//div[@id='detail-bullets' or @id='detailBullets']//div[@class='content']//li\")\n",
    "def get_prod_details_alt(current_driver):\n",
    "    all_descriptions_rows = current_driver.find_elements_by_xpath(\"//div[@id='detail-bullets' or @id='detailBullets']//li\")\n",
    "    prod_details = []\n",
    "    for description_row in all_descriptions_rows:\n",
    "        prod_details.append(description_row.text.replace('\\n', '').replace(',', '').split(\":\"))\n",
    "    return prod_details"
   ]
  },
  {
   "cell_type": "code",
   "execution_count": 12,
   "metadata": {
    "collapsed": true
   },
   "outputs": [],
   "source": [
    "def get_all_stars(current_driver):    \n",
    "    all_stars = current_driver.find_element_by_xpath(\"//table[@id='histogramTable']/tbody\").find_elements_by_xpath(\"./tr\")\n",
    "    star_ratings = []\n",
    "    for star in all_stars:\n",
    "        try:\n",
    "            star_data = star.find_element_by_xpath(\"./td/a\").get_attribute('aria-label').replace(',', '')\n",
    "        except:\n",
    "            star_data = 'N/A'\n",
    "        star_ratings.append(star_data)\n",
    "    return star_ratings\n",
    "        "
   ]
  },
  {
   "cell_type": "code",
   "execution_count": null,
   "metadata": {},
   "outputs": [],
   "source": [
    "file_name = str(datetime.now()) + '_amazon_scraped.csv'\n",
    "f = open(file_name,'a')\n",
    "f.write(','.join(['Brand', 'Name', 'Price', 'Styles', 'Review Count', 'Star Rating', 'Product Details', 'Product Details Alt', '5 Stars', '4 Stars', '3 Stars', '2 Stars', '1 Stars', 'Url']) + '\\n') #Give your csv text here.\n",
    "\n",
    "## Python will convert \\n to os.linesep\n",
    "total_scraped = 0\n",
    "while total_scraped < 5000:\n",
    "    try:\n",
    "        search_results = driver.find_elements_by_xpath(\"//div[@id='search-results']//div[@id='mainResults']//li\")\n",
    "        if len(search_results) < 1:\n",
    "            search_results = driver.find_elements_by_xpath(\"//ul[contains(@id, 's-results')]//li[contains(@id, 'result')]\")\n",
    "        result_count = len(search_results)\n",
    "        print('- Number of results on this page: ', result_count)\n",
    "        for i in range(result_count):\n",
    "            search_results = driver.find_elements_by_xpath(\"//div[@id='search-results']//div[@id='mainResults']//li\")    \n",
    "            if len(search_results) < 1:\n",
    "                search_results = driver.find_elements_by_xpath(\"//ul[contains(@id, 's-results')]//li[contains(@id, 'result')]\")\n",
    "            search_results[i].click()\n",
    "            prod_brand = get_brand(driver)\n",
    "            prod_name = get_product(driver)\n",
    "            prod_price = get_price(driver)\n",
    "            prod_styles = get_all_swatches(driver) # List\n",
    "            (prod_review_count, prod_star_rating) = get_no_reviews_rating(driver) # Tuple\n",
    "            prod_details = get_prod_details(driver) # List of tuples\n",
    "            prod_details_alt = get_prod_details_alt(driver) # list of lists\n",
    "            prod_star_breakdown = get_all_stars(driver) # List\n",
    "\n",
    "            prod_styles_concat = '; '.join(prod_styles)\n",
    "            prod_details_concat = '; '.join([': '.join(tuple_detail) for tuple_detail in prod_details]).strip() or 'NA'\n",
    "            print(prod_name)\n",
    "            prod_details_alt_concat = '; '.join([': '.join(tuple_detail) for tuple_detail in prod_details_alt]).strip() or 'NA'\n",
    "            try:\n",
    "                prod_url = driver.current_url.split('?')[0].strip()\n",
    "            except:\n",
    "                prod_url = 'NA'\n",
    "            driver.back()\n",
    "            string_to_write = ','.join([prod_brand, prod_name, prod_price, prod_styles_concat, prod_review_count, prod_star_rating, prod_details_concat, prod_details_alt_concat, prod_star_breakdown[0], prod_star_breakdown[1], prod_star_breakdown[2], prod_star_breakdown[3], prod_star_breakdown[4], prod_url])\n",
    "            f.write(string_to_write + '\\n')\n",
    "            time.sleep(1 + random.random() * 3)\n",
    "\n",
    "        total_scraped += result_count\n",
    "        print(\"****Total completed: \", total_scraped)\n",
    "        time.sleep(5)\n",
    "        driver.execute_script(\"window.scrollTo(0, document.body.scrollHeight);\")\n",
    "        driver.find_elements_by_xpath(\"//a[@id='pagnNextLink']\")[-1].click()\n",
    "        time.sleep(5)\n",
    "    except Exception as e:\n",
    "        print(e)\n",
    "        f.close()\n",
    "        print('ended at: ', total_scraped)\n",
    "        break\n"
   ]
  },
  {
   "cell_type": "code",
   "execution_count": 14,
   "metadata": {
    "collapsed": true
   },
   "outputs": [],
   "source": [
    "f.close()"
   ]
  },
  {
   "cell_type": "code",
   "execution_count": 17,
   "metadata": {
    "collapsed": true
   },
   "outputs": [],
   "source": [
    "driver.back()"
   ]
  },
  {
   "cell_type": "code",
   "execution_count": null,
   "metadata": {},
   "outputs": [],
   "source": []
  }
 ],
 "metadata": {
  "kernelspec": {
   "display_name": "Python 3",
   "language": "python",
   "name": "python3"
  },
  "language_info": {
   "codemirror_mode": {
    "name": "ipython",
    "version": 3
   },
   "file_extension": ".py",
   "mimetype": "text/x-python",
   "name": "python",
   "nbconvert_exporter": "python",
   "pygments_lexer": "ipython3",
   "version": "3.6.5"
  }
 },
 "nbformat": 4,
 "nbformat_minor": 2
}
