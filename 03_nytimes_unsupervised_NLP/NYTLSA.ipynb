{
 "cells": [
  {
   "cell_type": "code",
   "execution_count": 14,
   "metadata": {
    "collapsed": true
   },
   "outputs": [],
   "source": [
    "# Imports\n",
    "# Basics\n",
    "from __future__ import print_function, division\n",
    "import pandas as pd \n",
    "import numpy as np\n",
    "from matplotlib import pyplot as plt\n",
    "%matplotlib inline\n",
    "# gensim\n",
    "from gensim import corpora, models, similarities, matutils\n",
    "# sklearn\n",
    "from sklearn import datasets\n",
    "from sklearn.feature_extraction.text import CountVectorizer, TfidfVectorizer\n",
    "from sklearn.naive_bayes import MultinomialNB\n",
    "from sklearn.model_selection import train_test_split\n",
    "from sklearn.cluster import KMeans\n",
    "from sklearn.decomposition import TruncatedSVD\n",
    "from sklearn.neighbors import KNeighborsClassifier\n",
    "import sklearn.metrics.pairwise as smp\n",
    "\n",
    "from sklearn.decomposition import NMF\n",
    "\n",
    "\n",
    "# logging for gensim (set to INFO)\n",
    "import logging\n",
    "logging.basicConfig(format='%(asctime)s : %(levelname)s : %(message)s', level=logging.INFO)"
   ]
  },
  {
   "cell_type": "code",
   "execution_count": 34,
   "metadata": {
    "collapsed": true
   },
   "outputs": [],
   "source": [
    "dtypes = {\n",
    "    'id': np.int32,\n",
    "    'year': np.int32,\n",
    "    'month': np.int8,\n",
    "    'id': 'object',\n",
    "    'url': 'object',\n",
    "    'word_count': np.float16,\n",
    "    'article': 'object'\n",
    "    ''\n",
    "}\n",
    "raw_df = pd.read_csv('./data/11_17_final.csv', names=['ind', 'year', 'month', 'id', 'url', 'word_count', 'article'], dtype=dtypes, index_col=False)"
   ]
  },
  {
   "cell_type": "code",
   "execution_count": 35,
   "metadata": {
    "collapsed": true
   },
   "outputs": [],
   "source": [
    "raw_df.drop_duplicates(subset='id', inplace=True)\n",
    "raw_df = raw_df.dropna().reset_index()"
   ]
  },
  {
   "cell_type": "code",
   "execution_count": 17,
   "metadata": {
    "collapsed": true
   },
   "outputs": [],
   "source": [
    "subset_size = 20000\n",
    "subset_df = raw_df.groupby('year').apply(lambda x: x.sample(subset_size)).reset_index(drop=True)"
   ]
  },
  {
   "cell_type": "code",
   "execution_count": 18,
   "metadata": {
    "collapsed": true
   },
   "outputs": [],
   "source": [
    "article_text = subset_df['article']"
   ]
  },
  {
   "cell_type": "code",
   "execution_count": 148,
   "metadata": {
    "collapsed": true
   },
   "outputs": [],
   "source": [
    "# Vectorize the text using TFIDF\n",
    "tfidf = TfidfVectorizer(stop_words=\"english\", \n",
    "                        token_pattern=\"\\\\b[a-zA-Z][a-zA-Z]+\\\\b\", #words with >= 2 alpha chars \n",
    "                        min_df=10)\n",
    "tfidf_vecs = tfidf.fit_transform(article_text) # fits keys and weights to tfidf and transforms articles to store in tfidf_vecs\n",
    "# pd.DataFrame(tfidf_vecs.todense(), \n",
    "#              columns=tfidf.get_feature_names()\n",
    "#             ).head()"
   ]
  },
  {
   "cell_type": "code",
   "execution_count": 20,
   "metadata": {},
   "outputs": [
    {
     "name": "stderr",
     "output_type": "stream",
     "text": [
      "2018-03-07 05:50:20,262 : INFO : adding document #0 to Dictionary(0 unique tokens: [])\n",
      "2018-03-07 05:50:22,908 : INFO : adding document #10000 to Dictionary(0 unique tokens: [])\n",
      "2018-03-07 05:50:25,636 : INFO : adding document #20000 to Dictionary(0 unique tokens: [])\n",
      "2018-03-07 05:50:28,365 : INFO : adding document #30000 to Dictionary(0 unique tokens: [])\n",
      "2018-03-07 05:50:31,002 : INFO : adding document #40000 to Dictionary(0 unique tokens: [])\n",
      "2018-03-07 05:50:33,609 : INFO : adding document #50000 to Dictionary(0 unique tokens: [])\n",
      "2018-03-07 05:50:36,286 : INFO : adding document #60000 to Dictionary(0 unique tokens: [])\n",
      "2018-03-07 05:50:38,896 : INFO : adding document #70000 to Dictionary(0 unique tokens: [])\n",
      "2018-03-07 05:50:41,507 : INFO : adding document #80000 to Dictionary(0 unique tokens: [])\n",
      "2018-03-07 05:50:44,095 : INFO : adding document #90000 to Dictionary(0 unique tokens: [])\n",
      "2018-03-07 05:50:46,842 : INFO : adding document #100000 to Dictionary(0 unique tokens: [])\n",
      "2018-03-07 05:50:48,582 : INFO : built Dictionary(69931 unique tokens: ['global', 'fund', 'fight', 'aids', 'tuberculosis']...) from 105000 documents (total 1195263 corpus positions)\n"
     ]
    }
   ],
   "source": [
    "# Convert sparse matrix of counts to a gensim corpus\n",
    "# Need to transpose it for gensim which wants \n",
    "# terms by docs instead of docs by terms\n",
    "tfidf_corpus = matutils.Sparse2Corpus(tfidf_vecs.transpose())\n",
    "\n",
    "# Row indices\n",
    "id2word = dict((v, k) for k, v in tfidf.vocabulary_.items())\n",
    "\n",
    "# This is a hack for Python 3!\n",
    "id2word = corpora.Dictionary.from_corpus(tfidf_corpus, \n",
    "                                         id2word=id2word)"
   ]
  },
  {
   "cell_type": "code",
   "execution_count": 21,
   "metadata": {
    "collapsed": true
   },
   "outputs": [],
   "source": [
    "tfidf_svd_v2 = TruncatedSVD(n_components=150, n_iter=100, random_state=2)\n",
    "review_reduced_v2 = tfidf_svd_v2.fit_transform(tfidf_vecs)  \n",
    "# print(tfidf_svd_v2.explained_variance_ratio_) \n",
    "# print(tfidf_svd_v2.singular_values_)"
   ]
  },
  {
   "cell_type": "code",
   "execution_count": 59,
   "metadata": {},
   "outputs": [
    {
     "data": {
      "text/plain": [
       "Text(0.5,1,'Elbow Plot LSI with 150 reduced features')"
      ]
     },
     "execution_count": 59,
     "metadata": {},
     "output_type": "execute_result"
    },
    {
     "data": {
      "image/png": "[encoded data removed]",
      "text/plain": [
       "<matplotlib.figure.Figure at 0x7f83295f33c8>"
      ]
     },
     "metadata": {},
     "output_type": "display_data"
    }
   ],
   "source": [
    "plt.figure(figsize=(12, 8))\n",
    "plt.plot(range(0,150), list(tfidf_svd_v2.singular_values_), marker='o')\n",
    "plt.xlabel('Reduced Feature Space')\n",
    "plt.ylabel('SVD Singular Values')\n",
    "plt.title('Elbow Plot LSI with 150 reduced features')"
   ]
  },
  {
   "cell_type": "code",
   "execution_count": 24,
   "metadata": {},
   "outputs": [
    {
     "name": "stderr",
     "output_type": "stream",
     "text": [
      "2018-03-07 06:17:15,896 : INFO : using serial LSI version on this node\n",
      "2018-03-07 06:17:15,898 : INFO : updating model with new documents\n",
      "2018-03-07 06:17:17,052 : INFO : preparing a new chunk of documents\n",
      "2018-03-07 06:17:18,457 : INFO : using 100 extra samples and 2 power iterations\n",
      "2018-03-07 06:17:18,458 : INFO : 1st phase: constructing (69931, 150) action matrix\n",
      "2018-03-07 06:17:19,420 : INFO : orthonormalizing (69931, 150) action matrix\n",
      "2018-03-07 06:17:25,030 : INFO : 2nd phase: running dense svd on (150, 20000) matrix\n",
      "2018-03-07 06:17:25,435 : INFO : computing the final decomposition\n",
      "2018-03-07 06:17:25,439 : INFO : keeping 50 factors (discarding 32.672% of energy spectrum)\n",
      "2018-03-07 06:17:25,538 : INFO : processed documents up to #20000\n",
      "2018-03-07 06:17:25,556 : INFO : topic #0(23.785): 0.353*\"said\" + 0.296*\"mr\" + 0.116*\"new\" + 0.111*\"percent\" + 0.101*\"ms\" + 0.095*\"year\" + 0.091*\"people\" + 0.091*\"like\" + 0.086*\"government\" + 0.083*\"state\"\n",
      "2018-03-07 06:17:25,558 : INFO : topic #1(12.265): -0.283*\"game\" + 0.232*\"mr\" + -0.188*\"season\" + -0.152*\"games\" + -0.152*\"team\" + -0.140*\"points\" + -0.125*\"scored\" + -0.120*\"players\" + 0.114*\"government\" + -0.110*\"league\"\n",
      "2018-03-07 06:17:25,561 : INFO : topic #2(11.402): -0.401*\"percent\" + 0.288*\"mr\" + -0.137*\"billion\" + -0.137*\"debt\" + -0.135*\"euro\" + -0.126*\"bank\" + -0.124*\"european\" + -0.119*\"market\" + -0.115*\"prices\" + -0.112*\"rose\"\n",
      "2018-03-07 06:17:25,563 : INFO : topic #3(10.221): 0.172*\"ms\" + -0.142*\"government\" + -0.139*\"game\" + 0.131*\"york\" + 0.130*\"bridegroom\" + 0.130*\"new\" + -0.127*\"military\" + 0.126*\"school\" + 0.119*\"graduated\" + -0.110*\"obama\"\n",
      "2018-03-07 06:17:25,565 : INFO : topic #4(9.569): -0.342*\"mr\" + -0.306*\"romney\" + -0.220*\"obama\" + -0.188*\"republican\" + -0.157*\"republicans\" + 0.135*\"police\" + -0.123*\"campaign\" + -0.116*\"tax\" + 0.115*\"said\" + -0.111*\"democrats\"\n",
      "2018-03-07 06:17:27,161 : INFO : preparing a new chunk of documents\n",
      "2018-03-07 06:17:28,540 : INFO : using 100 extra samples and 2 power iterations\n",
      "2018-03-07 06:17:28,541 : INFO : 1st phase: constructing (69931, 150) action matrix\n",
      "2018-03-07 06:17:29,499 : INFO : orthonormalizing (69931, 150) action matrix\n",
      "2018-03-07 06:17:35,206 : INFO : 2nd phase: running dense svd on (150, 20000) matrix\n",
      "2018-03-07 06:17:35,603 : INFO : computing the final decomposition\n",
      "2018-03-07 06:17:35,606 : INFO : keeping 50 factors (discarding 32.071% of energy spectrum)\n",
      "2018-03-07 06:17:35,692 : INFO : merging projections: (69931, 50) + (69931, 50)\n",
      "2018-03-07 06:17:35,839 : INFO : keeping 50 factors (discarding 4.558% of energy spectrum)\n",
      "2018-03-07 06:17:35,945 : INFO : processed documents up to #40000\n",
      "2018-03-07 06:17:35,950 : INFO : topic #0(33.588): 0.352*\"said\" + 0.304*\"mr\" + 0.116*\"new\" + 0.106*\"percent\" + 0.103*\"ms\" + 0.094*\"year\" + 0.091*\"like\" + 0.089*\"people\" + 0.084*\"government\" + 0.081*\"state\"\n",
      "2018-03-07 06:17:35,954 : INFO : topic #1(17.442): 0.293*\"game\" + -0.277*\"mr\" + 0.194*\"season\" + 0.157*\"team\" + 0.151*\"games\" + 0.142*\"points\" + 0.120*\"scored\" + 0.115*\"players\" + -0.114*\"obama\" + 0.110*\"yankees\"\n",
      "2018-03-07 06:17:35,958 : INFO : topic #2(15.825): 0.425*\"percent\" + -0.277*\"mr\" + 0.139*\"billion\" + 0.130*\"market\" + 0.128*\"bank\" + 0.125*\"euro\" + 0.119*\"growth\" + 0.118*\"rose\" + 0.118*\"index\" + 0.116*\"quarter\"\n",
      "2018-03-07 06:17:35,959 : INFO : topic #3(14.369): -0.173*\"ms\" + 0.160*\"obama\" + 0.156*\"game\" + 0.145*\"romney\" + -0.134*\"york\" + -0.132*\"new\" + 0.127*\"mr\" + -0.122*\"graduated\" + 0.117*\"government\" + -0.114*\"school\"\n",
      "2018-03-07 06:17:35,962 : INFO : topic #4(13.456): 0.336*\"romney\" + 0.283*\"mr\" + 0.192*\"obama\" + 0.175*\"republican\" + 0.145*\"republicans\" + -0.143*\"police\" + -0.135*\"military\" + -0.134*\"said\" + -0.131*\"syria\" + 0.125*\"campaign\"\n",
      "2018-03-07 06:17:37,311 : INFO : preparing a new chunk of documents\n",
      "2018-03-07 06:17:38,654 : INFO : using 100 extra samples and 2 power iterations\n",
      "2018-03-07 06:17:38,655 : INFO : 1st phase: constructing (69931, 150) action matrix\n",
      "2018-03-07 06:17:39,590 : INFO : orthonormalizing (69931, 150) action matrix\n",
      "2018-03-07 06:17:45,051 : INFO : 2nd phase: running dense svd on (150, 20000) matrix\n",
      "2018-03-07 06:17:45,452 : INFO : computing the final decomposition\n",
      "2018-03-07 06:17:45,456 : INFO : keeping 50 factors (discarding 32.771% of energy spectrum)\n",
      "2018-03-07 06:17:45,549 : INFO : merging projections: (69931, 50) + (69931, 50)\n",
      "2018-03-07 06:17:45,697 : INFO : keeping 50 factors (discarding 4.592% of energy spectrum)\n",
      "2018-03-07 06:17:45,800 : INFO : processed documents up to #60000\n",
      "2018-03-07 06:17:45,805 : INFO : topic #0(40.840): 0.348*\"said\" + 0.302*\"mr\" + 0.118*\"new\" + 0.105*\"ms\" + 0.103*\"percent\" + 0.094*\"year\" + 0.091*\"like\" + 0.090*\"people\" + 0.083*\"state\" + 0.081*\"government\"\n",
      "2018-03-07 06:17:45,810 : INFO : topic #1(21.145): 0.301*\"game\" + -0.284*\"mr\" + 0.202*\"season\" + 0.169*\"team\" + 0.158*\"games\" + 0.150*\"points\" + 0.123*\"scored\" + 0.121*\"players\" + 0.112*\"league\" + 0.111*\"yankees\"\n",
      "2018-03-07 06:17:45,814 : INFO : topic #2(18.794): 0.444*\"percent\" + -0.257*\"mr\" + 0.139*\"market\" + 0.129*\"growth\" + 0.128*\"billion\" + 0.125*\"bank\" + 0.124*\"economy\" + 0.121*\"quarter\" + 0.119*\"index\" + 0.119*\"rose\"\n",
      "2018-03-07 06:17:45,816 : INFO : topic #3(17.325): -0.178*\"ms\" + 0.146*\"game\" + 0.143*\"obama\" + -0.137*\"york\" + -0.135*\"new\" + 0.132*\"government\" + -0.113*\"graduated\" + 0.111*\"military\" + -0.104*\"school\" + 0.103*\"syria\"\n",
      "2018-03-07 06:17:45,818 : INFO : topic #4(15.862): 0.300*\"mr\" + 0.212*\"romney\" + 0.210*\"republican\" + 0.183*\"obama\" + 0.181*\"republicans\" + -0.147*\"police\" + 0.146*\"democrats\" + -0.130*\"said\" + 0.128*\"senate\" + -0.126*\"syria\"\n",
      "2018-03-07 06:17:47,368 : INFO : preparing a new chunk of documents\n",
      "2018-03-07 06:17:48,705 : INFO : using 100 extra samples and 2 power iterations\n",
      "2018-03-07 06:17:48,706 : INFO : 1st phase: constructing (69931, 150) action matrix\n",
      "2018-03-07 06:17:49,699 : INFO : orthonormalizing (69931, 150) action matrix\n",
      "2018-03-07 06:17:57,515 : INFO : 2nd phase: running dense svd on (150, 20000) matrix\n",
      "2018-03-07 06:17:58,076 : INFO : computing the final decomposition\n",
      "2018-03-07 06:17:58,080 : INFO : keeping 50 factors (discarding 32.266% of energy spectrum)\n",
      "2018-03-07 06:17:58,189 : INFO : merging projections: (69931, 50) + (69931, 50)\n",
      "2018-03-07 06:17:58,463 : INFO : keeping 50 factors (discarding 5.056% of energy spectrum)\n",
      "2018-03-07 06:17:58,642 : INFO : processed documents up to #80000\n",
      "2018-03-07 06:17:58,647 : INFO : topic #0(46.869): 0.344*\"said\" + 0.305*\"mr\" + 0.118*\"new\" + 0.107*\"ms\" + 0.100*\"percent\" + 0.093*\"year\" + 0.092*\"people\" + 0.090*\"like\" + 0.085*\"state\" + 0.080*\"city\"\n",
      "2018-03-07 06:17:58,653 : INFO : topic #1(24.034): 0.302*\"game\" + -0.295*\"mr\" + 0.206*\"season\" + 0.172*\"team\" + 0.156*\"games\" + 0.152*\"points\" + 0.127*\"scored\" + 0.119*\"players\" + 0.115*\"league\" + 0.107*\"yankees\"\n",
      "2018-03-07 06:17:58,659 : INFO : topic #2(21.466): 0.435*\"percent\" + -0.263*\"mr\" + 0.141*\"market\" + 0.135*\"billion\" + 0.133*\"bank\" + 0.125*\"growth\" + 0.122*\"rose\" + 0.120*\"economy\" + 0.114*\"quarter\" + 0.112*\"index\"\n",
      "2018-03-07 06:17:58,665 : INFO : topic #3(19.695): -0.188*\"ms\" + 0.153*\"game\" + 0.147*\"obama\" + -0.130*\"york\" + -0.130*\"new\" + 0.122*\"government\" + 0.112*\"points\" + 0.112*\"mr\" + 0.100*\"military\" + -0.100*\"graduated\"\n",
      "2018-03-07 06:17:58,671 : INFO : topic #4(17.875): 0.326*\"mr\" + 0.203*\"republican\" + -0.188*\"police\" + 0.166*\"republicans\" + 0.162*\"romney\" + 0.160*\"obama\" + -0.144*\"said\" + 0.132*\"democrats\" + -0.125*\"military\" + -0.122*\"syria\"\n",
      "2018-03-07 06:18:00,104 : INFO : preparing a new chunk of documents\n",
      "2018-03-07 06:18:01,481 : INFO : using 100 extra samples and 2 power iterations\n",
      "2018-03-07 06:18:01,482 : INFO : 1st phase: constructing (69931, 150) action matrix\n",
      "2018-03-07 06:18:02,567 : INFO : orthonormalizing (69931, 150) action matrix\n",
      "2018-03-07 06:18:08,297 : INFO : 2nd phase: running dense svd on (150, 20000) matrix\n",
      "2018-03-07 06:18:08,699 : INFO : computing the final decomposition\n",
      "2018-03-07 06:18:08,702 : INFO : keeping 50 factors (discarding 31.980% of energy spectrum)\n",
      "2018-03-07 06:18:08,788 : INFO : merging projections: (69931, 50) + (69931, 50)\n",
      "2018-03-07 06:18:08,938 : INFO : keeping 50 factors (discarding 4.150% of energy spectrum)\n",
      "2018-03-07 06:18:09,046 : INFO : processed documents up to #100000\n"
     ]
    },
    {
     "name": "stderr",
     "output_type": "stream",
     "text": [
      "2018-03-07 06:18:09,051 : INFO : topic #0(52.445): 0.337*\"said\" + 0.318*\"mr\" + 0.118*\"new\" + 0.110*\"ms\" + 0.094*\"people\" + 0.092*\"percent\" + 0.091*\"year\" + 0.091*\"like\" + 0.083*\"state\" + 0.078*\"city\"\n",
      "2018-03-07 06:18:09,056 : INFO : topic #1(26.453): -0.348*\"mr\" + 0.281*\"game\" + 0.198*\"season\" + 0.163*\"team\" + 0.146*\"games\" + 0.135*\"points\" + -0.131*\"trump\" + 0.114*\"players\" + 0.112*\"scored\" + 0.112*\"league\"\n",
      "2018-03-07 06:18:09,059 : INFO : topic #2(23.333): 0.412*\"percent\" + -0.286*\"mr\" + 0.141*\"market\" + 0.138*\"billion\" + 0.132*\"bank\" + 0.123*\"company\" + 0.120*\"growth\" + 0.114*\"investors\" + 0.113*\"economy\" + 0.112*\"rose\"\n",
      "2018-03-07 06:18:09,060 : INFO : topic #3(21.971): -0.200*\"ms\" + 0.183*\"game\" + 0.173*\"trump\" + 0.133*\"obama\" + 0.132*\"points\" + 0.126*\"mr\" + -0.123*\"york\" + -0.121*\"new\" + 0.113*\"season\" + 0.103*\"republican\"\n",
      "2018-03-07 06:18:09,063 : INFO : topic #4(20.271): 0.287*\"trump\" + 0.247*\"mr\" + -0.221*\"police\" + -0.174*\"said\" + 0.156*\"republican\" + -0.138*\"military\" + -0.133*\"government\" + -0.130*\"syria\" + 0.122*\"republicans\" + -0.119*\"officials\"\n",
      "2018-03-07 06:18:09,600 : INFO : preparing a new chunk of documents\n",
      "2018-03-07 06:18:09,961 : INFO : using 100 extra samples and 2 power iterations\n",
      "2018-03-07 06:18:09,962 : INFO : 1st phase: constructing (69931, 150) action matrix\n",
      "2018-03-07 06:18:10,224 : INFO : orthonormalizing (69931, 150) action matrix\n",
      "2018-03-07 06:18:12,990 : INFO : 2nd phase: running dense svd on (150, 5000) matrix\n",
      "2018-03-07 06:18:13,159 : INFO : computing the final decomposition\n",
      "2018-03-07 06:18:13,163 : INFO : keeping 50 factors (discarding 33.410% of energy spectrum)\n",
      "2018-03-07 06:18:13,253 : INFO : merging projections: (69931, 50) + (69931, 50)\n",
      "2018-03-07 06:18:13,406 : INFO : keeping 50 factors (discarding 1.726% of energy spectrum)\n",
      "2018-03-07 06:18:13,508 : INFO : processed documents up to #105000\n",
      "2018-03-07 06:18:13,511 : INFO : topic #0(53.805): 0.335*\"said\" + 0.321*\"mr\" + 0.117*\"new\" + 0.111*\"ms\" + 0.095*\"people\" + 0.091*\"like\" + 0.090*\"percent\" + 0.090*\"year\" + 0.083*\"state\" + 0.079*\"trump\"\n",
      "2018-03-07 06:18:13,516 : INFO : topic #1(27.068): -0.361*\"mr\" + 0.273*\"game\" + 0.193*\"season\" + -0.165*\"trump\" + 0.159*\"team\" + 0.142*\"games\" + 0.128*\"points\" + 0.112*\"players\" + 0.110*\"league\" + -0.107*\"obama\"\n",
      "2018-03-07 06:18:13,520 : INFO : topic #2(23.731): 0.401*\"percent\" + -0.293*\"mr\" + -0.140*\"trump\" + 0.140*\"market\" + 0.138*\"billion\" + 0.131*\"bank\" + 0.127*\"company\" + 0.118*\"growth\" + 0.112*\"investors\" + 0.110*\"economy\"\n",
      "2018-03-07 06:18:13,524 : INFO : topic #3(22.548): 0.204*\"trump\" + -0.203*\"ms\" + 0.191*\"game\" + 0.135*\"points\" + 0.121*\"obama\" + -0.121*\"york\" + 0.119*\"season\" + -0.118*\"new\" + 0.107*\"mr\" + 0.102*\"team\"\n",
      "2018-03-07 06:18:13,526 : INFO : topic #4(20.762): 0.307*\"trump\" + -0.224*\"police\" + 0.219*\"mr\" + -0.179*\"said\" + 0.145*\"republican\" + -0.139*\"military\" + -0.136*\"government\" + -0.129*\"syria\" + -0.121*\"officials\" + 0.116*\"republicans\"\n"
     ]
    }
   ],
   "source": [
    "# Build an LSI space from the input TFIDF matrix, mapping of row id to word, and num_topics\n",
    "# num_topics is the number of dimensions to reduce to after the SVD\n",
    "# Analagous to \"fit\" in sklearn, it primes an LSI space\n",
    "lsi = models.LsiModel(tfidf_corpus, id2word=id2word, num_topics=50)"
   ]
  },
  {
   "cell_type": "code",
   "execution_count": 240,
   "metadata": {
    "scrolled": false
   },
   "outputs": [],
   "source": [
    "# lsi.show_topics(num_words=15)"
   ]
  },
  {
   "cell_type": "code",
   "execution_count": 25,
   "metadata": {
    "collapsed": true
   },
   "outputs": [],
   "source": [
    "# Retrieve vectors for the original tfidf corpus in the LSI space (\"transform\" in sklearn)\n",
    "lsi_corpus = lsi[tfidf_corpus]"
   ]
  },
  {
   "cell_type": "markdown",
   "metadata": {},
   "source": [
    "### Vector Similiary Recommendation system (works but unused)"
   ]
  },
  {
   "cell_type": "code",
   "execution_count": null,
   "metadata": {
    "collapsed": true
   },
   "outputs": [],
   "source": [
    "# Dump the resulting document vectors into a list so we can take a look\n",
    "# doc_vecs = [doc for doc in lsi_corpus]\n",
    "# doc_vecs[0]"
   ]
  },
  {
   "cell_type": "code",
   "execution_count": null,
   "metadata": {
    "collapsed": true
   },
   "outputs": [],
   "source": [
    "# Create an index transformer that calculates similarity based on \n",
    "# our space\n",
    "\n",
    "# index = similarities.MatrixSimilarity(doc_vecs, \n",
    "#                                       num_features=50)"
   ]
  },
  {
   "cell_type": "code",
   "execution_count": null,
   "metadata": {
    "collapsed": true
   },
   "outputs": [],
   "source": [
    "#each doc_vec represents reduced feature matrix (n_documents x r_reduced_components)\n",
    "# doc_vecs[0]\n",
    "# when you pass doc_vec into index, it will return an array of all the scores \n",
    "# compared with each row in doc."
   ]
  },
  {
   "cell_type": "code",
   "execution_count": null,
   "metadata": {
    "collapsed": true
   },
   "outputs": [],
   "source": [
    "#will compare all 27k documents with each other, which is 27k x 27k matrix\n",
    "# index[doc_vecs].shape"
   ]
  },
  {
   "cell_type": "code",
   "execution_count": null,
   "metadata": {
    "collapsed": true
   },
   "outputs": [],
   "source": [
    "# Return the sorted list of cosine similarities to the first document\n",
    "# sims = sorted(enumerate(index[doc_vecs[60]]), key=lambda item: -item[1])\n",
    "# sims\n",
    "\n",
    "# Let's take a look at how we did\n",
    "# for sim_doc_id, sim_score in sims[0:5]: \n",
    "#     print(\"Score: \" + str(sim_score))\n",
    "#     print(\"Document: \" + article_text[sim_doc_id])"
   ]
  },
  {
   "cell_type": "code",
   "execution_count": 26,
   "metadata": {},
   "outputs": [
    {
     "data": {
      "text/plain": [
       "(105000, 50)"
      ]
     },
     "execution_count": 26,
     "metadata": {},
     "output_type": "execute_result"
    }
   ],
   "source": [
    "# Convert the gensim-style corpus vecs to a numpy array for sklearn manipulations\n",
    "ng_lsi = matutils.corpus2dense(lsi_corpus, num_terms=50).transpose()\n",
    "ng_lsi.shape"
   ]
  },
  {
   "cell_type": "code",
   "execution_count": 119,
   "metadata": {
    "collapsed": true
   },
   "outputs": [],
   "source": [
    "from sklearn.metrics import silhouette_score\n",
    "from sklearn.preprocessing import normalize\n",
    "norm_ng_lsi = normalize(ng_lsi)\n"
   ]
  },
  {
   "cell_type": "code",
   "execution_count": null,
   "metadata": {
    "collapsed": true
   },
   "outputs": [],
   "source": [
    "SSEs = []\n",
    "Sil_coefs = []\n",
    "for k in range(4,30):\n",
    "    #km = KMeans(n_clusters=k, random_state=1)\n",
    "    km = KMeans(n_clusters=k, random_state=12)\n",
    "    km.fit(norm_ng_lsi)\n",
    "    labels = km.labels_\n",
    "    Sil_coefs.append(silhouette_score(norm_ng_lsi, labels, metric='euclidean'))\n",
    "    SSEs.append(km.inertia_)"
   ]
  },
  {
   "cell_type": "code",
   "execution_count": 86,
   "metadata": {},
   "outputs": [
    {
     "data": {
      "text/plain": [
       "Text(0,0.5,'silhouette coefficient')"
      ]
     },
     "execution_count": 86,
     "metadata": {},
     "output_type": "execute_result"
    },
    {
     "data": {
      "image/png": "[encoded data removed]",
      "text/plain": [
       "<matplotlib.figure.Figure at 0x7f83299277b8>"
      ]
     },
     "metadata": {},
     "output_type": "display_data"
    }
   ],
   "source": [
    "# fig, (ax1, ax2) = plt.subplots(2,1, figsize=(10,10), sharex=True, dpi=80)\n",
    "# k_clusters = range(4,30)\n",
    "# ax1.plot(k_clusters, Sil_coefs)\n",
    "# ax1.set_xlabel('number of clusters')\n",
    "# ax1.set_ylabel('silhouette coefficient')\n",
    "\n",
    "# # plot here on ax2\n",
    "# ax2.plot(k_clusters, SSEs)\n",
    "# ax2.set_xlabel('number of clusters')\n",
    "# ax2.set_ylabel('SSE');\n",
    "\n",
    "k_clusters = range(4,30)\n",
    "plt.figure(figsize=(12,7))\n",
    "plt.plot(k_clusters, Sil_coefs)\n",
    "plt.xlabel('number of clusters')\n",
    "plt.ylabel('silhouette coefficient')"
   ]
  },
  {
   "cell_type": "code",
   "execution_count": 132,
   "metadata": {
    "collapsed": true
   },
   "outputs": [],
   "source": [
    "# Create KMeans\n",
    "kmeans = KMeans(n_clusters=18)\n",
    "\n",
    "# Cluster\n",
    "ng_lsi_clusters = kmeans.fit_predict(norm_ng_lsi)"
   ]
  },
  {
   "cell_type": "code",
   "execution_count": 221,
   "metadata": {
    "collapsed": true
   },
   "outputs": [],
   "source": [
    "cluster_0 = np.array(article_text[ng_lsi_clusters == 0])\n",
    "cluster_1 = np.array(article_text[ng_lsi_clusters == 1])\n",
    "cluster_2 = np.array(article_text[ng_lsi_clusters == 2])\n",
    "cluster_3 = np.array(article_text[ng_lsi_clusters == 3])\n",
    "cluster_4 = np.array(article_text[ng_lsi_clusters == 4])\n",
    "cluster_5 = np.array(article_text[ng_lsi_clusters == 5])\n",
    "cluster_6 = np.array(article_text[ng_lsi_clusters == 6])\n",
    "cluster_7 = np.array(article_text[ng_lsi_clusters == 7])\n",
    "cluster_8 = np.array(article_text[ng_lsi_clusters == 8])\n",
    "cluster_9 = np.array(article_text[ng_lsi_clusters == 9])\n",
    "cluster_10 = np.array(article_text[ng_lsi_clusters == 10])\n",
    "cluster_11 = np.array(article_text[ng_lsi_clusters == 11])\n",
    "cluster_12 = np.array(article_text[ng_lsi_clusters == 12])\n",
    "cluster_13 = np.array(article_text[ng_lsi_clusters == 13])\n",
    "cluster_14 = np.array(article_text[ng_lsi_clusters == 14])\n",
    "cluster_15 = np.array(article_text[ng_lsi_clusters == 15])\n",
    "cluster_16 = np.array(article_text[ng_lsi_clusters == 16])\n",
    "cluster_17 = np.array(article_text[ng_lsi_clusters == 17])"
   ]
  },
  {
   "cell_type": "code",
   "execution_count": 151,
   "metadata": {
    "collapsed": true
   },
   "outputs": [],
   "source": [
    "def get_clusters_for_year(yr):\n",
    "    articles_for_year = raw_df[raw_df['year'] == yr]['article']\n",
    "    # fit articles for year to tfidf\n",
    "    print('retrieved articles for {}'.format(yr))\n",
    "    tfidf_vecs_yr = tfidf.transform(articles_for_year)\n",
    "    print('done transforming to TFIDF')\n",
    "    # convert to corpus\n",
    "    tfidf_corpus_yr = matutils.Sparse2Corpus(tfidf_vecs_yr.transpose())\n",
    "    print('Transformed to corpus')\n",
    "    # reduce features with trained LSI\n",
    "    lsi_corpus_yr = lsi[tfidf_corpus_yr]\n",
    "    print('reduced features')\n",
    "    # convert from gensim format to numpy array\n",
    "    ng_lsi_yr = matutils.corpus2dense(lsi_corpus_yr, num_terms=50).transpose()\n",
    "    print('convert back to numpy array for kmeans')\n",
    "    # normalize it for kmeans\n",
    "    norm_ng_lsi_yr = normalize(ng_lsi_yr)\n",
    "    print('normalized')\n",
    "    # predict\n",
    "    print('predicting...')\n",
    "    ng_lsi_clusters_yr = kmeans.predict(norm_ng_lsi_yr)\n",
    "    return ng_lsi_clusters_yr"
   ]
  },
  {
   "cell_type": "code",
   "execution_count": 165,
   "metadata": {},
   "outputs": [],
   "source": [
    "def get_breakdown(cluster):\n",
    "    unique, counts = np.unique(cluster, return_counts=True)\n",
    "    return counts"
   ]
  },
  {
   "cell_type": "code",
   "execution_count": 167,
   "metadata": {},
   "outputs": [
    {
     "name": "stdout",
     "output_type": "stream",
     "text": [
      "year: 2011\n",
      "retrieved articles for 2011\n",
      "done transforming to TFIDF\n",
      "Transformed to corpus\n",
      "reduced features\n",
      "convert back to numpy array for kmeans\n",
      "normalized\n",
      "predicting...\n",
      "[1031 1558 1262 2815 1202 1371 1646 1922 3344 2053 3019 1950 2537 3855\n",
      "  995 1834 1623 2086]\n",
      "year: 2012\n",
      "retrieved articles for 2012\n",
      "done transforming to TFIDF\n",
      "Transformed to corpus\n",
      "reduced features\n",
      "convert back to numpy array for kmeans\n",
      "normalized\n",
      "predicting...\n",
      "[ 890 1466 1318 3442 1505 1373 1629 2054 3540 2007 2729 1925 2000 3830\n",
      " 1019 1809 1512 2009]\n",
      "year: 2013\n",
      "retrieved articles for 2013\n",
      "done transforming to TFIDF\n",
      "Transformed to corpus\n",
      "reduced features\n",
      "convert back to numpy array for kmeans\n",
      "normalized\n",
      "predicting...\n",
      "[ 785 1237 1259 2811 1256 1395 1801 1998 3491 2008 2277 1861 2185 3909\n",
      "  963 1821 1600 2138]\n",
      "year: 2014\n",
      "retrieved articles for 2014\n",
      "done transforming to TFIDF\n",
      "Transformed to corpus\n",
      "reduced features\n",
      "convert back to numpy array for kmeans\n",
      "normalized\n",
      "predicting...\n",
      "[ 949 1632 1548 3292 1235 1233 2129 2526 4314 2135 2410 2187 2901 4914\n",
      " 1060 2082 1757 2486]\n",
      "year: 2015\n",
      "retrieved articles for 2015\n",
      "done transforming to TFIDF\n",
      "Transformed to corpus\n",
      "reduced features\n",
      "convert back to numpy array for kmeans\n",
      "normalized\n",
      "predicting...\n",
      "[ 812 1530 1923 3229 1209 1341 2219 2728 3533 2328 3497 2020 2297 4939\n",
      " 1307 2182 1885 3107]\n",
      "year: 2016\n",
      "retrieved articles for 2016\n",
      "done transforming to TFIDF\n",
      "Transformed to corpus\n",
      "reduced features\n",
      "convert back to numpy array for kmeans\n",
      "normalized\n",
      "predicting...\n",
      "[ 828 1678 1730 5477 1158 1078 2852 3292 3235 2060 2505 1873 1964 3686\n",
      "  690 2182 2047 3736]\n",
      "year: 2017\n",
      "retrieved articles for 2017\n",
      "done transforming to TFIDF\n",
      "Transformed to corpus\n",
      "reduced features\n",
      "convert back to numpy array for kmeans\n",
      "normalized\n",
      "predicting...\n",
      "[ 957 1522 1240 5182 1082  964 2556 2442 2292 1728 1510 1613 1750 2881\n",
      "  374 1934 2028 4062]\n"
     ]
    }
   ],
   "source": [
    "yearly_count_breakdowns = []\n",
    "for yr in range(2011, 2018):\n",
    "    print('year: {}'.format(yr))\n",
    "    yearly_count_breakdowns.append(get_breakdown(get_clusters_for_year(yr)))"
   ]
  }
 ],
 "metadata": {
  "kernelspec": {
   "display_name": "Python 3",
   "language": "python",
   "name": "python3"
  },
  "language_info": {
   "codemirror_mode": {
    "name": "ipython",
    "version": 3
   },
   "file_extension": ".py",
   "mimetype": "text/x-python",
   "name": "python",
   "nbconvert_exporter": "python",
   "pygments_lexer": "ipython3",
   "version": "3.6.5"
  }
 },
 "nbformat": 4,
 "nbformat_minor": 2
}
