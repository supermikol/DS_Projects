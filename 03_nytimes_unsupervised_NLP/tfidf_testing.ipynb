{
 "cells": [
  {
   "cell_type": "code",
   "execution_count": 88,
   "metadata": {},
   "outputs": [
    {
     "ename": "ModuleNotFoundError",
     "evalue": "No module named 'plotly'",
     "output_type": "error",
     "traceback": [
      "\u001b[0;31m---------------------------------------------------------------------------\u001b[0m",
      "\u001b[0;31mModuleNotFoundError\u001b[0m                       Traceback (most recent call last)",
      "\u001b[0;32m<ipython-input-88-87ce8ae39194>\u001b[0m in \u001b[0;36m<module>\u001b[0;34m()\u001b[0m\n\u001b[1;32m      4\u001b[0m \u001b[0;32mfrom\u001b[0m \u001b[0mmatplotlib\u001b[0m \u001b[0;32mimport\u001b[0m \u001b[0mpyplot\u001b[0m \u001b[0;32mas\u001b[0m \u001b[0mplt\u001b[0m\u001b[0;34m\u001b[0m\u001b[0m\n\u001b[1;32m      5\u001b[0m \u001b[0mget_ipython\u001b[0m\u001b[0;34m(\u001b[0m\u001b[0;34m)\u001b[0m\u001b[0;34m.\u001b[0m\u001b[0mrun_line_magic\u001b[0m\u001b[0;34m(\u001b[0m\u001b[0;34m'matplotlib'\u001b[0m\u001b[0;34m,\u001b[0m \u001b[0;34m'inline'\u001b[0m\u001b[0;34m)\u001b[0m\u001b[0;34m\u001b[0m\u001b[0m\n\u001b[0;32m----> 6\u001b[0;31m \u001b[0;32mimport\u001b[0m \u001b[0mplotly\u001b[0m\u001b[0;34m\u001b[0m\u001b[0m\n\u001b[0m",
      "\u001b[0;31mModuleNotFoundError\u001b[0m: No module named 'plotly'"
     ]
    }
   ],
   "source": [
    "# import plotly\n",
    "from gensim import corpora, models, similarities, matutils\n",
    "from sklearn.feature_extraction.text import CountVectorizer, TfidfVectorizer\n",
    "from sklearn.decomposition import TruncatedSVD\n",
    "from matplotlib import pyplot as plt\n",
    "%matplotlib inline"
   ]
  },
  {
   "cell_type": "code",
   "execution_count": 8,
   "metadata": {},
   "outputs": [],
   "source": [
    "tfidf = TfidfVectorizer(stop_words=\"english\", \n",
    "                        token_pattern=\"\\\\b[a-zA-Z][a-zA-Z]+\\\\b\")"
   ]
  },
  {
   "cell_type": "code",
   "execution_count": 9,
   "metadata": {},
   "outputs": [],
   "source": [
    "documents = [\"Human machine interface for lab abc computer applications\",\n",
    "             \"A survey of user opinion of computer system response time\",\n",
    "             \"The EPS user interface management system\",\n",
    "             \"System and human system engineering testing of EPS\",\n",
    "             \"Relation of user perceived response time to error measurement\",\n",
    "             \"The generation of random binary unordered trees\",\n",
    "             \"The intersection graph of paths in trees\",\n",
    "             \"Graph minors IV Widths of trees and well quasi ordering\",\n",
    "             \"Graph minors A survey\"]"
   ]
  },
  {
   "cell_type": "code",
   "execution_count": 48,
   "metadata": {},
   "outputs": [],
   "source": [
    "tfidf_vecs = tfidf.fit_transform(documents)\n",
    "\n",
    "\n",
    "# tfidf_vecs.toarray()\n",
    "# array([[0.40356294, 0.40356294, 0.        , 0.34085569, 0.        ,\n",
    "#         0.        , 0.        , 0.        , 0.        , 0.34085569,\n",
    "#         0.34085569, 0.        , 0.        , 0.40356294, 0.40356294,\n",
    "#         0.        , 0.        , 0.        , 0.        , 0.        ,\n",
    "#         0.        , 0.        , 0.        , 0.        , 0.        ,\n",
    "#         0.        , 0.        , 0.        , 0.        , 0.        ,\n",
    "#         0.        , 0.        , 0.        ],\n",
    "        \n",
    "#        [0.        , 0.        , 0.        , 0.40298459, 0.        ,\n",
    "#         0.        , 0.        , 0.        , 0.        , 0.        ,\n",
    "#         0.        , 0.        , 0.        , 0.        , 0.        ,\n",
    "#         0.        , 0.        , 0.        , 0.4771217 , 0.        ,\n",
    "#         0.        , 0.        , 0.        , 0.        , 0.        ,\n",
    "#         0.40298459, 0.40298459, 0.        , 0.40298459, 0.        ,\n",
    "#         0.        , 0.35038347, 0.        ],\n",
    "#         ...\n"
   ]
  },
  {
   "cell_type": "code",
   "execution_count": 49,
   "metadata": {},
   "outputs": [],
   "source": [
    "tfidf_corpus = matutils.Sparse2Corpus(tfidf_vecs.transpose())"
   ]
  },
  {
   "cell_type": "code",
   "execution_count": 54,
   "metadata": {},
   "outputs": [],
   "source": [
    "# for i in tfidf_corpus:\n",
    "#     print(i)\n",
    "# [(9, 0.34085568775433567), (14, 0.40356294440166224), (10, 0.34085568775433567), (13, 0.40356294440166224), (0, 0.40356294440166224), (3, 0.34085568775433567), (1, 0.40356294440166224)]\n",
    "# [(3, 0.402984586482354), (26, 0.402984586482354), (31, 0.3503834650992687), (18, 0.47712170314880253), (25, 0.402984586482354), (28, 0.402984586482354)]\n",
    "    "
   ]
  },
  {
   "cell_type": "code",
   "execution_count": 58,
   "metadata": {},
   "outputs": [],
   "source": [
    "id2word = dict((v, k) for k, v in tfidf.vocabulary_.items())\n",
    "# {9: 'human', 14: 'machine', 10: 'interface', 13: 'lab', 0: 'abc', \n",
    "# 3: 'computer', 1: 'applications', 26: 'survey', 31: 'user', 18: 'opinion',\n",
    "# 25: 'response', 28: 'time', 5: 'eps', 15: 'management', 4: 'engineering',\n",
    "# 27: 'testing', 24: 'relation', 21: 'perceived', 6: 'error', 16: 'measurement',\n",
    "# 7: 'generation', 23: 'random', 2: 'binary', 30: 'unordered', 29: 'trees',\n",
    "# 11: 'intersection', 8: 'graph', 20: 'paths', 17: 'minors', 12: 'iv',\n",
    "# 32: 'widths', 22: 'quasi', 19: 'ordering'}"
   ]
  },
  {
   "cell_type": "code",
   "execution_count": 77,
   "metadata": {},
   "outputs": [],
   "source": [
    "id2word = corpora.Dictionary.from_corpus(tfidf_corpus, \n",
    "                                         id2word=id2word)\n",
    "# for (i,j) in id2word.items():\n",
    "#     print(i, j)\n",
    "\n",
    "# 9 human\n",
    "# 14 machine\n",
    "# 10 interface\n",
    "# 13 lab\n",
    "# 0 abc\n",
    "# ..."
   ]
  },
  {
   "cell_type": "code",
   "execution_count": 80,
   "metadata": {},
   "outputs": [],
   "source": [
    "tfidf_svd_v2 = TruncatedSVD(n_components=5, n_iter=100, random_state=2)\n",
    "review_reduced_v2 = tfidf_svd_v2.fit_transform(tfidf_vecs)  "
   ]
  },
  {
   "cell_type": "code",
   "execution_count": 82,
   "metadata": {},
   "outputs": [
    {
     "name": "stdout",
     "output_type": "stream",
     "text": [
      "[0.03867894 0.19674044 0.15515942 0.13054355 0.1190197 ]\n",
      "[1.29535336 1.23195542 1.11069341 1.00893245 0.93880561]\n"
     ]
    }
   ],
   "source": [
    "print(tfidf_svd_v2.explained_variance_ratio_) \n",
    "print(tfidf_svd_v2.singular_values_)"
   ]
  },
  {
   "cell_type": "code",
   "execution_count": 87,
   "metadata": {},
   "outputs": [
    {
     "data": {
      "text/plain": [
       "Text(0.5,1,'Elbow Plot LSI with 5 reduced features')"
      ]
     },
     "execution_count": 87,
     "metadata": {},
     "output_type": "execute_result"
    },
    {
     "data": {
      "image/png": "[encoded data removed]",
      "text/plain": [
       "<Figure size 864x576 with 1 Axes>"
      ]
     },
     "metadata": {},
     "output_type": "display_data"
    }
   ],
   "source": [
    "plt.figure(figsize=(12, 8))\n",
    "plt.plot(range(0,5), list(tfidf_svd_v2.singular_values_), marker='o')\n",
    "plt.xlabel('Reduced Feature Space')\n",
    "plt.ylabel('SVD Singular Values')\n",
    "plt.title('Elbow Plot LSI with 5 reduced features')"
   ]
  },
  {
   "cell_type": "code",
   "execution_count": 104,
   "metadata": {},
   "outputs": [],
   "source": [
    "lsi = models.LsiModel(tfidf_corpus, id2word=id2word, num_topics=5)"
   ]
  },
  {
   "cell_type": "code",
   "execution_count": 105,
   "metadata": {},
   "outputs": [],
   "source": [
    "lsi_corpus = lsi[tfidf_corpus]"
   ]
  },
  {
   "cell_type": "code",
   "execution_count": 106,
   "metadata": {},
   "outputs": [
    {
     "data": {
      "text/plain": [
       "<gensim.interfaces.TransformedCorpus at 0x1a231b1be0>"
      ]
     },
     "execution_count": 106,
     "metadata": {},
     "output_type": "execute_result"
    }
   ],
   "source": [
    "lsi_corpus"
   ]
  },
  {
   "cell_type": "code",
   "execution_count": 107,
   "metadata": {},
   "outputs": [
    {
     "data": {
      "text/plain": [
       "[(0, 0.22386371438709585),\n",
       " (1, -0.3913233455354807),\n",
       " (2, 0.4293849162167189),\n",
       " (3, -0.09250709880867758),\n",
       " (4, -0.7323674688019345)]"
      ]
     },
     "execution_count": 107,
     "metadata": {},
     "output_type": "execute_result"
    }
   ],
   "source": [
    "doc_vecs = [doc for doc in lsi_corpus]\n",
    "doc_vecs[0]\n"
   ]
  },
  {
   "cell_type": "code",
   "execution_count": 108,
   "metadata": {},
   "outputs": [
    {
     "data": {
      "text/plain": [
       "9"
      ]
     },
     "execution_count": 108,
     "metadata": {},
     "output_type": "execute_result"
    }
   ],
   "source": [
    "len(doc_vecs)"
   ]
  },
  {
   "cell_type": "code",
   "execution_count": 109,
   "metadata": {},
   "outputs": [
    {
     "data": {
      "text/plain": [
       "(9, 5)"
      ]
     },
     "execution_count": 109,
     "metadata": {},
     "output_type": "execute_result"
    }
   ],
   "source": [
    "# Convert the gensim-style corpus vecs to a numpy array for sklearn manipulations\n",
    "ng_lsi = matutils.corpus2dense(lsi_corpus, num_terms=5).transpose()\n",
    "ng_lsi.shape"
   ]
  },
  {
   "cell_type": "code",
   "execution_count": 110,
   "metadata": {},
   "outputs": [
    {
     "data": {
      "text/plain": [
       "array([[ 0.22386372, -0.39132336,  0.42938492, -0.0925071 , -0.73236746],\n",
       "       [ 0.56712204, -0.45359084, -0.4282852 , -0.00774564, -0.16904266],\n",
       "       [ 0.30151686, -0.5205477 ,  0.3628491 ,  0.05890948,  0.3106592 ],\n",
       "       [ 0.15087423, -0.34254062,  0.63332695, -0.06715222,  0.37409714],\n",
       "       [ 0.37828502, -0.46538043, -0.5048881 ,  0.25509903,  0.2114937 ],\n",
       "       [ 0.19084777,  0.21611145,  0.16265589,  0.8521987 , -0.15314011],\n",
       "       [ 0.47583884,  0.42738768,  0.1682844 ,  0.20367129,  0.06786852],\n",
       "       [ 0.57747304,  0.4775495 ,  0.13049899, -0.13396455,  0.07965775],\n",
       "       [ 0.6731288 ,  0.31070036, -0.07974461, -0.38807303, -0.02876925]],\n",
       "      dtype=float32)"
      ]
     },
     "execution_count": 110,
     "metadata": {},
     "output_type": "execute_result"
    }
   ],
   "source": [
    "ng_lsi"
   ]
  },
  {
   "cell_type": "code",
   "execution_count": null,
   "metadata": {},
   "outputs": [],
   "source": []
  }
 ],
 "metadata": {
  "kernelspec": {
   "display_name": "Python 3",
   "language": "python",
   "name": "python3"
  },
  "language_info": {
   "codemirror_mode": {
    "name": "ipython",
    "version": 3
   },
   "file_extension": ".py",
   "mimetype": "text/x-python",
   "name": "python",
   "nbconvert_exporter": "python",
   "pygments_lexer": "ipython3",
   "version": "3.6.5"
  }
 },
 "nbformat": 4,
 "nbformat_minor": 2
}
