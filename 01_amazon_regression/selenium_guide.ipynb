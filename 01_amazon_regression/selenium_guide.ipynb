{
 "cells": [
  {
   "cell_type": "markdown",
   "metadata": {},
   "source": [
    "# Selenium"
   ]
  },
  {
   "cell_type": "markdown",
   "metadata": {},
   "source": [
    "#### What is Selenium?\n",
    "\n",
    "Selenium automates browsers. That's it! What you do with that power is entirely up to you. Primarily, it is for automating web applications for testing purposes, but is certainly not limited to just that. Boring web-based administration tasks can (and should!) also be automated as well.\n",
    "\n"
   ]
  },
  {
   "cell_type": "markdown",
   "metadata": {},
   "source": [
    "Selenium has the support of some of the largest browser vendors who have taken (or are taking) steps to make Selenium a native part of their browser. It is also the core technology in countless other browser automation tools, APIs and frameworks."
   ]
  },
  {
   "cell_type": "markdown",
   "metadata": {},
   "source": [
    "#### Working with Selenium"
   ]
  },
  {
   "cell_type": "markdown",
   "metadata": {},
   "source": [
    "\n",
    "\n",
    "1. http://selenium-python.readthedocs.io/index.html\n",
    "2. http://seleniumhq.github.io/selenium/docs/api/py/index.html"
   ]
  },
  {
   "cell_type": "code",
   "execution_count": 1,
   "metadata": {
    "collapsed": false
   },
   "outputs": [],
   "source": [
    "## Install Selenium and your browser driver:\n",
    "# !pip install selenium\n",
    "# !brew install chromedriver\n"
   ]
  },
  {
   "cell_type": "markdown",
   "metadata": {},
   "source": [
    "<tbody valign=\"top\">\n",
    "<tr><td><strong>Chrome</strong>:</td>\n",
    "<td><a href=\"https://sites.google.com/a/chromium.org/chromedriver/downloads\">https://sites.google.com/a/chromium.org/chromedriver/downloads</a></td>\n",
    "</tr>\n",
    "<tr><td><strong>Edge</strong>:</td>\n",
    "<td><a href=\"https://developer.microsoft.com/en-us/microsoft-edge/tools/webdriver/\">https://developer.microsoft.com/en-us/microsoft-edge/tools/webdriver/</a></td>\n",
    "</tr>\n",
    "<tr><td><strong>Firefox</strong>:</td>\n",
    "<td><a href=\"https://github.com/mozilla/geckodriver/releases\">https://github.com/mozilla/geckodriver/releases</a></td>\n",
    "</tr>\n",
    "<tr><td><strong>Safari</strong>:</td>\n",
    "<td><a href=\"https://webkit.org/blog/6900/webdriver-support-in-safari-10/\">https://webkit.org/blog/6900/webdriver-support-in-safari-10/</a></td>\n",
    "</tr>\n",
    "</tbody>"
   ]
  },
  {
   "cell_type": "code",
   "execution_count": 1,
   "metadata": {
    "collapsed": false
   },
   "outputs": [],
   "source": [
    "# Import the selenium package:\n",
    "from selenium import webdriver\n",
    "import pandas as pd\n",
    "import time"
   ]
  },
  {
   "cell_type": "markdown",
   "metadata": {},
   "source": [
    "#### Starting a Selenium controlled browser."
   ]
  },
  {
   "cell_type": "code",
   "execution_count": 2,
   "metadata": {
    "collapsed": false
   },
   "outputs": [],
   "source": [
    "#call you browser:\n",
    "# mybrowser=webdriver.firefox()\n",
    "# mybrowser=webdriver.Safari()\n",
    "browser=webdriver.Chrome()\n"
   ]
  },
  {
   "cell_type": "code",
   "execution_count": 3,
   "metadata": {
    "collapsed": false
   },
   "outputs": [],
   "source": [
    "#tell the browser where to go\n",
    "browser.get('http://www.google.com/')"
   ]
  },
  {
   "cell_type": "code",
   "execution_count": 4,
   "metadata": {
    "collapsed": false
   },
   "outputs": [
    {
     "data": {
      "text/plain": [
       "selenium.webdriver.remote.webelement.WebElement"
      ]
     },
     "execution_count": 4,
     "metadata": {},
     "output_type": "execute_result"
    }
   ],
   "source": [
    "# find_elements in web page \n",
    "\n",
    "linkElem=browser.find_element_by_xpath('//*[@id=\"lst-ib\"]')\n",
    "type(linkElem)"
   ]
  },
  {
   "cell_type": "code",
   "execution_count": 5,
   "metadata": {
    "collapsed": false
   },
   "outputs": [],
   "source": [
    "linkElem.clear()\n",
    "linkElem.send_keys('what is Selenium')\n",
    "linkElem.submit()"
   ]
  },
  {
   "cell_type": "code",
   "execution_count": 6,
   "metadata": {
    "collapsed": false
   },
   "outputs": [],
   "source": [
    "linkElem2 = browser.find_element_by_xpath('//*[@id=\"rso\"]/div[2]/div[1]/div/h3/a')\n",
    "linkElem2.click()"
   ]
  },
  {
   "cell_type": "code",
   "execution_count": 7,
   "metadata": {
    "collapsed": false
   },
   "outputs": [],
   "source": [
    "#close out the browser\n",
    "browser.close()"
   ]
  },
  {
   "cell_type": "markdown",
   "metadata": {},
   "source": [
    "### WebElement Attributes and Methods"
   ]
  },
  {
   "cell_type": "markdown",
   "metadata": {},
   "source": [
    "<table summary=\"Selenium’s WebDriver Methods for Finding Elements\" class=\"calibre9\">\n",
    "<colgroup class=\"calibre10\">\n",
    "<col class=\"calibre11\">\n",
    "<col class=\"calibre11\">\n",
    "</colgroup>\n",
    "<thead class=\"calibre12\">\n",
    "<tr class=\"calibre13\">\n",
    "<th valign=\"top\" class=\"calibre14\">\n",
    "<p class=\"calibre4\"><a id=\"calibre_link-305\" class=\"calibre1\"></a><a id=\"calibre_link-323\" class=\"calibre1\"></a><a id=\"calibre_link-385\" class=\"calibre1\"></a><a id=\"calibre_link-735\" class=\"calibre1\"></a><a id=\"calibre_link-902\" class=\"calibre1\"></a><a id=\"calibre_link-903\" class=\"calibre1\"></a><a id=\"calibre_link-906\" class=\"calibre1\"></a><a id=\"calibre_link-1016\" class=\"calibre1\"></a><a id=\"calibre_link-1551\" class=\"calibre1\"></a><a id=\"calibre_link-1693\" class=\"calibre1\"></a>Method name</p>\n",
    "</th>\n",
    "<th valign=\"top\" class=\"calibre15\">\n",
    "<p class=\"calibre4\">WebElement object/list returned</p>\n",
    "</th>\n",
    "</tr>\n",
    "</thead>\n",
    "<tbody class=\"calibre16\">\n",
    "<tr class=\"calibre13\">\n",
    "<td valign=\"top\" class=\"calibre17\"><a id=\"calibre_link-2988\" class=\"calibre1\"></a>\n",
    "<pre class=\"programlisting2\">browser.find_element_by_class_name(<span class=\"calibre1\"><em class=\"literal3\">name</em></span>)\n",
    "browser.find_elements_by_class_name(<span class=\"calibre1\"><em class=\"literal3\">name</em></span>)</pre>\n",
    "</td>\n",
    "<td valign=\"top\" class=\"calibre18\">\n",
    "<p class=\"calibre4\">Elements that use the CSS class <span class=\"calibre1\"><em class=\"calibre5\"><code class=\"literal4\">name</code></em></span></p>\n",
    "</td>\n",
    "</tr>\n",
    "<tr class=\"calibre19\">\n",
    "<td valign=\"top\" class=\"calibre17\"><a id=\"calibre_link-2989\" class=\"calibre1\"></a>\n",
    "<pre class=\"programlisting2\">browser.find_element_by_css_selector(<span class=\"calibre1\"><em class=\"literal3\">selector</em></span>)\n",
    "browser.find_elements_by_css_selector(<span class=\"calibre1\"><em class=\"literal3\">selector</em></span>)</pre>\n",
    "</td>\n",
    "<td valign=\"top\" class=\"calibre18\">\n",
    "<p class=\"calibre4\">Elements that match the CSS <span class=\"calibre1\"><em class=\"calibre5\"><code class=\"literal4\">selector</code></em></span></p>\n",
    "</td>\n",
    "</tr>\n",
    "<tr class=\"calibre13\">\n",
    "<td valign=\"top\" class=\"calibre17\"><a id=\"calibre_link-2990\" class=\"calibre1\"></a>\n",
    "<pre class=\"programlisting2\">browser.find_element_by_id(<span class=\"calibre1\"><em class=\"literal3\">id</em></span>)\n",
    "browser.find_elements_by_id(<span class=\"calibre1\"><em class=\"literal3\">id</em></span>)</pre>\n",
    "</td>\n",
    "<td valign=\"top\" class=\"calibre18\">\n",
    "<p class=\"calibre4\">Elements with a matching <span class=\"calibre1\"><em class=\"calibre5\"><code class=\"literal4\">id</code></em></span> attribute value</p>\n",
    "</td>\n",
    "</tr>\n",
    "<tr class=\"calibre19\">\n",
    "<td valign=\"top\" class=\"calibre17\"><a id=\"calibre_link-2991\" class=\"calibre1\"></a>\n",
    "<pre class=\"programlisting2\">browser.find_element_by_link_text(<span class=\"calibre1\"><em class=\"literal3\">text</em></span>)\n",
    "browser.find_elements_by_link_text(<span class=\"calibre1\"><em class=\"literal3\">text</em></span>)</pre>\n",
    "</td>\n",
    "<td valign=\"top\" class=\"calibre18\">\n",
    "<p class=\"calibre4\"><code class=\"literal2\">&lt;a&gt;</code> elements that completely match the <span class=\"calibre1\"><em class=\"calibre5\"><code class=\"literal4\">text</code></em></span> provided</p>\n",
    "</td>\n",
    "</tr>\n",
    "<tr class=\"calibre13\">\n",
    "<td valign=\"top\" class=\"calibre17\"><a id=\"calibre_link-2992\" class=\"calibre1\"></a>\n",
    "<pre class=\"programlisting2\">browser.find_element_by_partial_link_text(<span class=\"calibre1\"><em class=\"literal3\">text</em></span>)\n",
    "browser.find_elements_by_partial_link_text(<span class=\"calibre1\"><em class=\"literal3\">text</em></span>)</pre>\n",
    "</td>\n",
    "<td valign=\"top\" class=\"calibre18\">\n",
    "<p class=\"calibre4\"><code class=\"literal2\">&lt;a&gt;</code> elements that contain the <span class=\"calibre1\"><em class=\"calibre5\"><code class=\"literal4\">text</code></em></span> provided</p>\n",
    "</td>\n",
    "</tr>\n",
    "<tr class=\"calibre19\">\n",
    "<td valign=\"top\" class=\"calibre17\"><a id=\"calibre_link-2993\" class=\"calibre1\"></a>\n",
    "<pre class=\"programlisting2\">browser.find_element_by_name(<span class=\"calibre1\"><em class=\"literal3\">name</em></span>)\n",
    "browser.find_elements_by_name(<span class=\"calibre1\"><em class=\"literal3\">name</em></span>)</pre>\n",
    "</td>\n",
    "<td valign=\"top\" class=\"calibre18\">\n",
    "<p class=\"calibre4\">Elements with a matching <span class=\"calibre1\"><em class=\"calibre5\"><code class=\"literal4\">name</code></em></span> attribute value</p>\n",
    "</td>\n",
    "</tr>\n",
    "<tr class=\"calibre13\">\n",
    "<td valign=\"top\" class=\"calibre20\"><a id=\"calibre_link-2994\" class=\"calibre1\"></a>\n",
    "<pre class=\"programlisting2\">browser.find_element_by_tag_name(<span class=\"calibre1\"><em class=\"literal3\">name</em></span>)\n",
    "browser.find_elements_by_tag_name(<span class=\"calibre1\"><em class=\"literal3\">name</em></span>)</pre>\n",
    "</td>\n",
    "<td valign=\"top\" class=\"calibre21\">\n",
    "<p class=\"calibre4\">Elements with a matching tag <span class=\"calibre1\"><em class=\"calibre5\"><code class=\"literal4\">name</code></em></span> (case insensitive; an <code class=\"literal2\">&lt;a&gt;</code> element is matched by <code class=\"literal2\">'a'</code> and <code class=\"literal2\">'A'</code>)</p>\n",
    "</td>\n",
    "</tr>\n",
    "</tbody>\n",
    "</table>"
   ]
  },
  {
   "cell_type": "markdown",
   "metadata": {},
   "source": [
    "### Implicit vs Explicit Waits\n"
   ]
  },
  {
   "cell_type": "markdown",
   "metadata": {},
   "source": [
    "##### Implicit:\n",
    "\n",
    "An implicit wait is to tell WebDriver to poll the DOM for a certain amount of time when trying to find an element or elements if they are not immediately available. The default setting is 0. Once set, the implicit wait is set for the life of the WebDriver object instance."
   ]
  },
  {
   "cell_type": "code",
   "execution_count": null,
   "metadata": {
    "collapsed": true
   },
   "outputs": [],
   "source": [
    "#Implicit wait example:\n",
    "\n",
    "driver.implicitly_wait(10) # seconds\n",
    "driver.get(\"http://somedomain/url_that_delays_loading\")\n",
    "myDynamicElement = driver.find_element_by_id(\"myDynamicElement\")"
   ]
  },
  {
   "cell_type": "markdown",
   "metadata": {},
   "source": [
    "##### Explicit:\n",
    "\n",
    "An explicit wait is code you define to wait for a certain condition to occur before proceeding further in the code. The worst case of this is time.sleep(), which sets the condition to an exact time period to wait. "
   ]
  },
  {
   "cell_type": "code",
   "execution_count": null,
   "metadata": {
    "collapsed": true
   },
   "outputs": [],
   "source": [
    "#Explicit wait example:\n",
    "\n",
    "driver.get(\"http://somedomain/url_that_delays_loading\")\n",
    "try:\n",
    "    element = WebDriverWait(driver, 10).until(\n",
    "        EC.presence_of_element_located((By.ID, \"myDynamicElement\"))\n",
    "    )\n",
    "finally:\n",
    "    driver.quit()"
   ]
  },
  {
   "cell_type": "markdown",
   "metadata": {},
   "source": [
    "### Other common send keys"
   ]
  },
  {
   "cell_type": "code",
   "execution_count": 56,
   "metadata": {
    "collapsed": false
   },
   "outputs": [],
   "source": [
    "# Only working in Firefox last time I checked\n",
    "\n",
    "# from selenium.webdriver.common.keys import Keys\n",
    "\n",
    "# browser.get('http://nostarch.com')\n",
    "# htmlElem = browser.find_element_by_tag_name('html')\n",
    "# htmlElem.send_keys(Keys.END)     # scrolls to bottom\n",
    "# htmlElem.send_keys(Keys.HOME)    # scrolls to top"
   ]
  },
  {
   "cell_type": "markdown",
   "metadata": {},
   "source": [
    "### Commonly Used Variables in the selenium.webdriver.common.keys Module"
   ]
  },
  {
   "cell_type": "markdown",
   "metadata": {},
   "source": [
    "<table summary=\"Commonly Used Variables in the selenium.webdriver.common.keys Module\" class=\"calibre9\">\n",
    "<colgroup class=\"calibre10\">\n",
    "<col class=\"calibre11\">\n",
    "<col class=\"calibre11\">\n",
    "</colgroup>\n",
    "<thead class=\"calibre12\">\n",
    "<tr class=\"calibre13\">\n",
    "<th valign=\"top\" class=\"calibre14\">\n",
    "<p class=\"calibre4\">Attributes</p>\n",
    "</th>\n",
    "<th valign=\"top\" class=\"calibre15\">\n",
    "<p class=\"calibre4\">Meanings</p>\n",
    "</th>\n",
    "</tr>\n",
    "</thead>\n",
    "<tbody class=\"calibre16\">\n",
    "<tr class=\"calibre13\">\n",
    "<td valign=\"top\" class=\"calibre17\">\n",
    "<p class=\"calibre4\"><code class=\"literal2\">Keys.DOWN</code>, <code class=\"literal2\">Keys.UP</code>, <code class=\"literal2\">Keys.LEFT</code>, <code class=\"literal2\">Keys.RIGHT</code></p>\n",
    "</td>\n",
    "<td valign=\"top\" class=\"calibre18\">\n",
    "<p class=\"calibre4\">The keyboard arrow keys</p>\n",
    "</td>\n",
    "</tr>\n",
    "<tr class=\"calibre19\">\n",
    "<td valign=\"top\" class=\"calibre17\">\n",
    "<p class=\"calibre4\"><code class=\"literal2\">Keys.ENTER</code>, <code class=\"literal2\">Keys.RETURN</code></p>\n",
    "</td>\n",
    "<td valign=\"top\" class=\"calibre18\">\n",
    "<p class=\"calibre4\">The <span class=\"smaller\">ENTER</span> and <span class=\"smaller\">RETURN</span> keys</p>\n",
    "</td>\n",
    "</tr>\n",
    "<tr class=\"calibre13\">\n",
    "<td valign=\"top\" class=\"calibre17\">\n",
    "<p class=\"calibre4\"><code class=\"literal2\">Keys.HOME</code>, <code class=\"literal2\">Keys.END</code>, <code class=\"literal2\">Keys.PAGE_DOWN</code>, <code class=\"literal2\">Keys.PAGE_UP</code></p>\n",
    "</td>\n",
    "<td valign=\"top\" class=\"calibre18\">\n",
    "<p class=\"calibre4\">The <code class=\"literal2\">home</code>, <code class=\"literal2\">end</code>, <code class=\"literal2\">pagedown</code>, and <code class=\"literal2\">pageup</code> keys</p>\n",
    "</td>\n",
    "</tr>\n",
    "<tr class=\"calibre19\">\n",
    "<td valign=\"top\" class=\"calibre17\">\n",
    "<p class=\"calibre4\"><code class=\"literal2\">Keys.ESCAPE</code>, <code class=\"literal2\">Keys.BACK_SPACE</code>, <code class=\"literal2\">Keys.DELETE</code></p>\n",
    "</td>\n",
    "<td valign=\"top\" class=\"calibre18\">\n",
    "<p class=\"calibre4\">The <span class=\"smaller\">ESC</span>, <span class=\"smaller\">BACKSPACE</span>, and <span class=\"smaller\">DELETE</span> keys</p>\n",
    "</td>\n",
    "</tr>\n",
    "<tr class=\"calibre13\">\n",
    "<td valign=\"top\" class=\"calibre17\">\n",
    "<p class=\"calibre4\"><code class=\"literal2\">Keys.F1</code>, <code class=\"literal2\">Keys.F2</code>,..., <code class=\"literal2\">Keys.F12</code></p>\n",
    "</td>\n",
    "<td valign=\"top\" class=\"calibre18\">\n",
    "<p class=\"calibre4\">The F1 to F12 keys at the top of the keyboard</p>\n",
    "</td>\n",
    "</tr>\n",
    "<tr class=\"calibre19\">\n",
    "<td valign=\"top\" class=\"calibre20\">\n",
    "<p class=\"calibre4\"><code class=\"literal2\">Keys.TAB</code></p>\n",
    "</td>\n",
    "<td valign=\"top\" class=\"calibre21\">\n",
    "<p class=\"calibre4\">The <span class=\"smaller\">TAB</span> key</p>\n",
    "</td>\n",
    "</tr>\n",
    "</tbody>\n",
    "</table>"
   ]
  },
  {
   "cell_type": "markdown",
   "metadata": {},
   "source": [
    "### Selenium Example:\n"
   ]
  },
  {
   "cell_type": "code",
   "execution_count": 15,
   "metadata": {
    "collapsed": false
   },
   "outputs": [],
   "source": [
    "api = ['073-25275', '073-25278', '073-25276', '017-24896', '081-23122', '093-25025', '011-23596', '011-23597', '037-29339', '129-24074', '007-23714', '063-24599', '063-24598', '063-24597', '049-24742', '043-23456', '043-23457']"
   ]
  },
  {
   "cell_type": "code",
   "execution_count": 8,
   "metadata": {
    "collapsed": false
   },
   "outputs": [],
   "source": [
    "#Example Using Selenium for a task:\n",
    "\n",
    "# Import the selenium package:\n",
    "from selenium import webdriver\n",
    "import pandas as pd\n",
    "\n",
    "#create dataframe to store data:\n",
    "output=pd.DataFrame()\n",
    "\n",
    "#URL of interest:\n",
    "url='https://www2.oktax.onenet.net/GrossProduction/gp_PublicSearchPUNbyLegal.php'\n",
    "\n",
    "#call you browser:\n",
    "browser=webdriver.Chrome()\n",
    "\n",
    "#launch url\n",
    "browser.get(url=url)\n",
    "\n",
    "\n",
    "\n"
   ]
  },
  {
   "cell_type": "code",
   "execution_count": 10,
   "metadata": {
    "collapsed": true
   },
   "outputs": [],
   "source": [
    "# locate a radio button and select it:\n",
    "browser.find_elements_by_xpath(\".//input[@type='radio' and @value='API']\")[0].click()\n",
    "\n",
    "#locate API input box and enter data into this input:\n",
    "browser.find_element_by_name('OTCtxtAPI').send_keys('081-23122')\n",
    "\n",
    "#submit form\n",
    "browser.find_elements_by_name(\"submit\")[0].click()"
   ]
  },
  {
   "cell_type": "code",
   "execution_count": 11,
   "metadata": {
    "collapsed": true
   },
   "outputs": [],
   "source": [
    "#next select new link"
   ]
  },
  {
   "cell_type": "code",
   "execution_count": 12,
   "metadata": {
    "collapsed": false
   },
   "outputs": [],
   "source": [
    "browser.find_elements_by_class_name('showDetails')[0].click()"
   ]
  },
  {
   "cell_type": "code",
   "execution_count": 7,
   "metadata": {
    "collapsed": true
   },
   "outputs": [],
   "source": [
    "#next switch to the iframe"
   ]
  },
  {
   "cell_type": "code",
   "execution_count": 13,
   "metadata": {
    "collapsed": false
   },
   "outputs": [],
   "source": [
    "browser.switch_to_frame(browser.find_element_by_css_selector('#iframePopup'))\n",
    "#time.sleep(1)\n"
   ]
  },
  {
   "cell_type": "code",
   "execution_count": 15,
   "metadata": {
    "collapsed": false
   },
   "outputs": [],
   "source": [
    "browser.find_element_by_css_selector('#ui-id-6').click()"
   ]
  },
  {
   "cell_type": "code",
   "execution_count": 16,
   "metadata": {
    "collapsed": false
   },
   "outputs": [],
   "source": [
    "table_rows = browser.find_elements_by_class_name('sectionBlock')\n"
   ]
  },
  {
   "cell_type": "code",
   "execution_count": 19,
   "metadata": {
    "collapsed": false
   },
   "outputs": [
    {
     "name": "stdout",
     "output_type": "stream",
     "text": [
      "Table Rows n=  17 \n",
      "\n"
     ]
    }
   ],
   "source": [
    "print 'Table Rows n= ', len(table_rows),'\\n'\n",
    "\n",
    "# for i in table_rows:\n",
    "#         print i.text\n",
    "        \n",
    "otc_data=[]\n",
    "for i in table_rows:\n",
    "    if len(i.text) != 0:\n",
    "         otc_data.append(i.text.split())\n"
   ]
  },
  {
   "cell_type": "code",
   "execution_count": 20,
   "metadata": {
    "collapsed": false
   },
   "outputs": [
    {
     "data": {
      "text/html": [
       "<div>\n",
       "<table border=\"1\" class=\"dataframe\">\n",
       "  <thead>\n",
       "    <tr style=\"text-align: right;\">\n",
       "      <th></th>\n",
       "      <th>0</th>\n",
       "      <th>1</th>\n",
       "      <th>2</th>\n",
       "      <th>3</th>\n",
       "      <th>4</th>\n",
       "      <th>5</th>\n",
       "      <th>6</th>\n",
       "      <th>7</th>\n",
       "    </tr>\n",
       "  </thead>\n",
       "  <tbody>\n",
       "    <tr>\n",
       "      <th>0</th>\n",
       "      <td>2016</td>\n",
       "      <td>September</td>\n",
       "      <td>5</td>\n",
       "      <td>0</td>\n",
       "      <td>SCISSORTAIL</td>\n",
       "      <td>ENERGY</td>\n",
       "      <td>LLC</td>\n",
       "      <td>20866</td>\n",
       "    </tr>\n",
       "    <tr>\n",
       "      <th>1</th>\n",
       "      <td>2016</td>\n",
       "      <td>August</td>\n",
       "      <td>5</td>\n",
       "      <td>0</td>\n",
       "      <td>SCISSORTAIL</td>\n",
       "      <td>ENERGY</td>\n",
       "      <td>LLC</td>\n",
       "      <td>20866</td>\n",
       "    </tr>\n",
       "    <tr>\n",
       "      <th>2</th>\n",
       "      <td>2016</td>\n",
       "      <td>July</td>\n",
       "      <td>5</td>\n",
       "      <td>19</td>\n",
       "      <td>SCISSORTAIL</td>\n",
       "      <td>ENERGY</td>\n",
       "      <td>LLC</td>\n",
       "      <td>20866</td>\n",
       "    </tr>\n",
       "    <tr>\n",
       "      <th>3</th>\n",
       "      <td>2016</td>\n",
       "      <td>June</td>\n",
       "      <td>5</td>\n",
       "      <td>17</td>\n",
       "      <td>SCISSORTAIL</td>\n",
       "      <td>ENERGY</td>\n",
       "      <td>LLC</td>\n",
       "      <td>20866</td>\n",
       "    </tr>\n",
       "    <tr>\n",
       "      <th>4</th>\n",
       "      <td>2016</td>\n",
       "      <td>May</td>\n",
       "      <td>5</td>\n",
       "      <td>2</td>\n",
       "      <td>SCISSORTAIL</td>\n",
       "      <td>ENERGY</td>\n",
       "      <td>LLC</td>\n",
       "      <td>20866</td>\n",
       "    </tr>\n",
       "    <tr>\n",
       "      <th>5</th>\n",
       "      <td>2016</td>\n",
       "      <td>April</td>\n",
       "      <td>5</td>\n",
       "      <td>0</td>\n",
       "      <td>SCISSORTAIL</td>\n",
       "      <td>ENERGY</td>\n",
       "      <td>LLC</td>\n",
       "      <td>20866</td>\n",
       "    </tr>\n",
       "    <tr>\n",
       "      <th>6</th>\n",
       "      <td>2016</td>\n",
       "      <td>March</td>\n",
       "      <td>5</td>\n",
       "      <td>0</td>\n",
       "      <td>SCISSORTAIL</td>\n",
       "      <td>ENERGY</td>\n",
       "      <td>LLC</td>\n",
       "      <td>20866</td>\n",
       "    </tr>\n",
       "    <tr>\n",
       "      <th>7</th>\n",
       "      <td>2016</td>\n",
       "      <td>February</td>\n",
       "      <td>5</td>\n",
       "      <td>0</td>\n",
       "      <td>SCISSORTAIL</td>\n",
       "      <td>ENERGY</td>\n",
       "      <td>LLC</td>\n",
       "      <td>20866</td>\n",
       "    </tr>\n",
       "    <tr>\n",
       "      <th>8</th>\n",
       "      <td>2016</td>\n",
       "      <td>January</td>\n",
       "      <td>5</td>\n",
       "      <td>4</td>\n",
       "      <td>SCISSORTAIL</td>\n",
       "      <td>ENERGY</td>\n",
       "      <td>LLC</td>\n",
       "      <td>20866</td>\n",
       "    </tr>\n",
       "    <tr>\n",
       "      <th>9</th>\n",
       "      <td>2015</td>\n",
       "      <td>December</td>\n",
       "      <td>5</td>\n",
       "      <td>9</td>\n",
       "      <td>SCISSORTAIL</td>\n",
       "      <td>ENERGY</td>\n",
       "      <td>LLC</td>\n",
       "      <td>20866</td>\n",
       "    </tr>\n",
       "    <tr>\n",
       "      <th>10</th>\n",
       "      <td>2015</td>\n",
       "      <td>November</td>\n",
       "      <td>5</td>\n",
       "      <td>3</td>\n",
       "      <td>SCISSORTAIL</td>\n",
       "      <td>ENERGY</td>\n",
       "      <td>LLC</td>\n",
       "      <td>20866</td>\n",
       "    </tr>\n",
       "    <tr>\n",
       "      <th>11</th>\n",
       "      <td>2015</td>\n",
       "      <td>October</td>\n",
       "      <td>5</td>\n",
       "      <td>3</td>\n",
       "      <td>SCISSORTAIL</td>\n",
       "      <td>ENERGY</td>\n",
       "      <td>LLC</td>\n",
       "      <td>20866</td>\n",
       "    </tr>\n",
       "    <tr>\n",
       "      <th>12</th>\n",
       "      <td>2015</td>\n",
       "      <td>September</td>\n",
       "      <td>5</td>\n",
       "      <td>2</td>\n",
       "      <td>SCISSORTAIL</td>\n",
       "      <td>ENERGY</td>\n",
       "      <td>LLC</td>\n",
       "      <td>20866</td>\n",
       "    </tr>\n",
       "    <tr>\n",
       "      <th>13</th>\n",
       "      <td>2015</td>\n",
       "      <td>August</td>\n",
       "      <td>5</td>\n",
       "      <td>0</td>\n",
       "      <td>SCISSORTAIL</td>\n",
       "      <td>ENERGY</td>\n",
       "      <td>LLC</td>\n",
       "      <td>20866</td>\n",
       "    </tr>\n",
       "  </tbody>\n",
       "</table>\n",
       "</div>"
      ],
      "text/plain": [
       "       0          1  2   3            4       5    6      7\n",
       "0   2016  September  5   0  SCISSORTAIL  ENERGY  LLC  20866\n",
       "1   2016     August  5   0  SCISSORTAIL  ENERGY  LLC  20866\n",
       "2   2016       July  5  19  SCISSORTAIL  ENERGY  LLC  20866\n",
       "3   2016       June  5  17  SCISSORTAIL  ENERGY  LLC  20866\n",
       "4   2016        May  5   2  SCISSORTAIL  ENERGY  LLC  20866\n",
       "5   2016      April  5   0  SCISSORTAIL  ENERGY  LLC  20866\n",
       "6   2016      March  5   0  SCISSORTAIL  ENERGY  LLC  20866\n",
       "7   2016   February  5   0  SCISSORTAIL  ENERGY  LLC  20866\n",
       "8   2016    January  5   4  SCISSORTAIL  ENERGY  LLC  20866\n",
       "9   2015   December  5   9  SCISSORTAIL  ENERGY  LLC  20866\n",
       "10  2015   November  5   3  SCISSORTAIL  ENERGY  LLC  20866\n",
       "11  2015    October  5   3  SCISSORTAIL  ENERGY  LLC  20866\n",
       "12  2015  September  5   2  SCISSORTAIL  ENERGY  LLC  20866\n",
       "13  2015     August  5   0  SCISSORTAIL  ENERGY  LLC  20866"
      ]
     },
     "execution_count": 20,
     "metadata": {},
     "output_type": "execute_result"
    }
   ],
   "source": [
    "pd.DataFrame(otc_data)"
   ]
  },
  {
   "cell_type": "code",
   "execution_count": 21,
   "metadata": {
    "collapsed": true
   },
   "outputs": [],
   "source": [
    "browser.close()"
   ]
  },
  {
   "cell_type": "code",
   "execution_count": null,
   "metadata": {
    "collapsed": true
   },
   "outputs": [],
   "source": []
  }
 ],
 "metadata": {
  "anaconda-cloud": {},
  "kernelspec": {
   "display_name": "Python 3",
   "language": "python",
   "name": "python3"
  },
  "language_info": {
   "codemirror_mode": {
    "name": "ipython",
    "version": 3
   },
   "file_extension": ".py",
   "mimetype": "text/x-python",
   "name": "python",
   "nbconvert_exporter": "python",
   "pygments_lexer": "ipython3",
   "version": "3.5.3"
  }
 },
 "nbformat": 4,
 "nbformat_minor": 1
}